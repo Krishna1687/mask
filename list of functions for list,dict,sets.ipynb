{
 "cells": [
  {
   "cell_type": "code",
   "execution_count": 1,
   "id": "7284d2ca",
   "metadata": {},
   "outputs": [
    {
     "name": "stdout",
     "output_type": "stream",
     "text": [
      "['oo', 'pp', 'oip']\n"
     ]
    }
   ],
   "source": [
    "l = [\"oo\",\"pp\"]\n",
    "l.append(\"oip\")\n",
    "print(l)"
   ]
  },
  {
   "cell_type": "code",
   "execution_count": 3,
   "id": "66d879e6",
   "metadata": {},
   "outputs": [
    {
     "name": "stdout",
     "output_type": "stream",
     "text": [
      "['pp', 'ee', 'oo', 'mm']\n"
     ]
    }
   ],
   "source": [
    "f = [\"pp\",\"oo\",\"mm\"]\n",
    "f.insert(1,\"ee\")\n",
    "print(f)"
   ]
  },
  {
   "cell_type": "code",
   "execution_count": 4,
   "id": "4c8c847c",
   "metadata": {},
   "outputs": [
    {
     "name": "stdout",
     "output_type": "stream",
     "text": [
      "['kk', 'l', 'oo', 'ww']\n"
     ]
    }
   ],
   "source": [
    "k1 = [\"kk\",\"l\"]\n",
    "k2 = [\"oo\",\"ww\"]\n",
    "k1.extend(k2)\n",
    "print(k1)"
   ]
  },
  {
   "cell_type": "code",
   "execution_count": 5,
   "id": "3178ae9a",
   "metadata": {},
   "outputs": [
    {
     "name": "stdout",
     "output_type": "stream",
     "text": [
      "['p']\n"
     ]
    }
   ],
   "source": [
    "l = [\"p\",\"o\"]\n",
    "l.remove(\"o\")\n",
    "print(l)"
   ]
  },
  {
   "cell_type": "code",
   "execution_count": 6,
   "id": "79411cee",
   "metadata": {},
   "outputs": [
    {
     "name": "stdout",
     "output_type": "stream",
     "text": [
      "['r']\n"
     ]
    }
   ],
   "source": [
    "l = [\"r\",\"t\"]\n",
    "l.pop()\n",
    "print(l)"
   ]
  },
  {
   "cell_type": "code",
   "execution_count": 7,
   "id": "4c2c7023",
   "metadata": {},
   "outputs": [
    {
     "name": "stdout",
     "output_type": "stream",
     "text": [
      "[]\n"
     ]
    }
   ],
   "source": [
    "k = [\"1\",\"2\",\"3\"]\n",
    "k.clear()\n",
    "print(k)\n"
   ]
  },
  {
   "cell_type": "code",
   "execution_count": 8,
   "id": "31d950a2",
   "metadata": {},
   "outputs": [
    {
     "name": "stdout",
     "output_type": "stream",
     "text": [
      "[1, 2, 3, 6, 6, 7, 8, 9]\n"
     ]
    }
   ],
   "source": [
    "j = [6,8,9,7,6,2,3,1]\n",
    "j.sort()\n",
    "print(j)"
   ]
  },
  {
   "cell_type": "code",
   "execution_count": 9,
   "id": "90ec3c1b",
   "metadata": {},
   "outputs": [
    {
     "name": "stdout",
     "output_type": "stream",
     "text": [
      "['55', '66', '44']\n"
     ]
    }
   ],
   "source": [
    "j1 = [\"55\",\"66\",\"44\"]\n",
    "j2 = [1,22,33]\n",
    "j2 = j1.copy()\n",
    "print(j2)"
   ]
  },
  {
   "cell_type": "code",
   "execution_count": 10,
   "id": "dc3a8729",
   "metadata": {},
   "outputs": [
    {
     "name": "stdout",
     "output_type": "stream",
     "text": [
      "['p', 'j', 'a']\n"
     ]
    }
   ],
   "source": [
    "h = [\"a\",\"j\",\"p\"]\n",
    "h.reverse()\n",
    "print(h)"
   ]
  },
  {
   "cell_type": "code",
   "execution_count": 12,
   "id": "1139cf61",
   "metadata": {},
   "outputs": [
    {
     "name": "stdout",
     "output_type": "stream",
     "text": [
      "3\n"
     ]
    }
   ],
   "source": [
    "g = [5,4,6,45,5,4,5,8]\n",
    "i = g.count(5)\n",
    "print(i)"
   ]
  },
  {
   "cell_type": "code",
   "execution_count": 13,
   "id": "0dd34fb1",
   "metadata": {},
   "outputs": [
    {
     "name": "stdout",
     "output_type": "stream",
     "text": [
      "1\n"
     ]
    }
   ],
   "source": [
    "a = [\"55\",66,\"66\"]\n",
    "z = a.index(66)\n",
    "print(z)             #list"
   ]
  },
  {
   "cell_type": "code",
   "execution_count": 1,
   "id": "251c6a13",
   "metadata": {},
   "outputs": [
    {
     "name": "stdout",
     "output_type": "stream",
     "text": [
      "1\n"
     ]
    }
   ],
   "source": [
    "t = (\"p\",\"O\",\"l\")\n",
    "m =t.count(\"p\")\n",
    "print(m)"
   ]
  },
  {
   "cell_type": "code",
   "execution_count": 2,
   "id": "b942c88f",
   "metadata": {},
   "outputs": [
    {
     "name": "stdout",
     "output_type": "stream",
     "text": [
      "2\n"
     ]
    }
   ],
   "source": [
    "t = (\"p\",\"o\",\"i\")\n",
    "print(t.index(\"i\"))   #tuple"
   ]
  },
  {
   "cell_type": "code",
   "execution_count": 4,
   "id": "bd7201cf",
   "metadata": {},
   "outputs": [
    {
     "name": "stdout",
     "output_type": "stream",
     "text": [
      "{'c': 'p', 'v': 'v'}\n"
     ]
    }
   ],
   "source": [
    "w = {\"u\" : \"1\",\"o\" : \"l\",\"k\" :\"g\"}\n",
    "s = {\"c\":\"p\",\"v\":\"v\"}\n",
    "w = s.copy()\n",
    "print(w)"
   ]
  },
  {
   "cell_type": "code",
   "execution_count": 7,
   "id": "aea4442a",
   "metadata": {},
   "outputs": [
    {
     "name": "stdout",
     "output_type": "stream",
     "text": [
      "{'o': 'p', 'p': 'i', 'k': 'l'}\n"
     ]
    }
   ],
   "source": [
    "s = {\"o\":\"p\",\"p\":\"i\"}\n",
    "s.update({\"k\":\"l\"})\n",
    "print(s)"
   ]
  },
  {
   "cell_type": "code",
   "execution_count": 8,
   "id": "0c092ccf",
   "metadata": {},
   "outputs": [
    {
     "name": "stdout",
     "output_type": "stream",
     "text": [
      "dict_values(['o', 'i'])\n"
     ]
    }
   ],
   "source": [
    "s = {\"p\":\"o\",\"o\":\"i\"}\n",
    "print(s.values())"
   ]
  },
  {
   "cell_type": "code",
   "execution_count": 9,
   "id": "64939148",
   "metadata": {},
   "outputs": [
    {
     "name": "stdout",
     "output_type": "stream",
     "text": [
      "dict_keys(['0', '9'])\n"
     ]
    }
   ],
   "source": [
    "s = {\"0\":9,\"9\":8}\n",
    "print(s.keys())"
   ]
  },
  {
   "cell_type": "code",
   "execution_count": 11,
   "id": "5bcedd36",
   "metadata": {},
   "outputs": [
    {
     "name": "stdout",
     "output_type": "stream",
     "text": [
      "dict_items([('6', 66), ('4', 44)])\n"
     ]
    }
   ],
   "source": [
    "s = {\"6\":66,\"4\":44}\n",
    "print(s.items())"
   ]
  },
  {
   "cell_type": "code",
   "execution_count": 12,
   "id": "ffe42a68",
   "metadata": {},
   "outputs": [
    {
     "name": "stdout",
     "output_type": "stream",
     "text": [
      "None\n"
     ]
    }
   ],
   "source": [
    "s = {\"l\":11,\"k\":22}   #dictionary\n",
    "print(s.clear())"
   ]
  },
  {
   "cell_type": "code",
   "execution_count": null,
   "id": "ca18f8c8",
   "metadata": {},
   "outputs": [],
   "source": []
  }
 ],
 "metadata": {
  "kernelspec": {
   "display_name": "Python 3 (ipykernel)",
   "language": "python",
   "name": "python3"
  },
  "language_info": {
   "codemirror_mode": {
    "name": "ipython",
    "version": 3
   },
   "file_extension": ".py",
   "mimetype": "text/x-python",
   "name": "python",
   "nbconvert_exporter": "python",
   "pygments_lexer": "ipython3",
   "version": "3.9.13"
  }
 },
 "nbformat": 4,
 "nbformat_minor": 5
}
